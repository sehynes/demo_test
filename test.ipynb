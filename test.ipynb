import numpy as np

a=np.arange(24).reshape(4,6)
np.vsplit(a,3)
